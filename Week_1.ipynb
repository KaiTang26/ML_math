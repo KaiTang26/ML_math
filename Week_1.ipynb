{
 "cells": [
  {
   "cell_type": "markdown",
   "metadata": {},
   "source": [
    "# Model Representation  (lecture2 and lecture3)\n",
    "\n",
    "![title](img/ml_flow.png)\n",
    "\n",
    "h: is model which can be linear or nonliner\n"
   ]
  },
  {
   "cell_type": "markdown",
   "metadata": {},
   "source": [
    "## 1-Linear regression: \n",
    "  * one type of hypothesis function\n",
    "  \n",
    "## 2- Cost function:\n",
    "  * used to measure the accuracy of our hypothesis function\n",
    "  * one exampe is __Mean squared error__\n",
    "      ![title](img/mse.png)\n",
    "      \n",
    "##  3- Gradient Descent:\n",
    "  * summary as following: \n",
    "      ![title](img/sum_1.png)\n",
    "  * Solution for find params to get min value is __Gradient Descent__\n",
    "      ![title](img/gd_1.png)\n",
    "  * := assignment means __a__ := __b__, give value of b to a\n",
    "  * á: learn rate - step size following indicating direction\n",
    "  \n",
    " "
   ]
  },
  {
   "cell_type": "markdown",
   "metadata": {},
   "source": [
    "## 4- Matrices and vestor:\n",
    "* rows * colums: 4 X 2 = 4 by 2 matrices\n",
    "* A_ij: in A matrics, i_th row and j_th column\n",
    "* Vector:  n by 1 matrix y_i - i_th element in vector\n",
    "\n",
    "    ![title](img/mv_1.png)"
   ]
  },
  {
   "cell_type": "code",
   "execution_count": 13,
   "metadata": {},
   "outputs": [
    {
     "name": "stdout",
     "output_type": "stream",
     "text": [
      "[[1402  191]\n",
      " [1371  821]\n",
      " [ 949 1437]\n",
      " [ 147 1448]]\n",
      "(4, 1)\n"
     ]
    }
   ],
   "source": [
    "import numpy as np\n",
    "\n",
    "matrix_A = np.array([[1402, 191],[1371, 821], [949, 1437],[147,1448]])\n",
    "print(matrix_A)\n",
    "\n",
    "vecotr_y=np.array([[460], [232], [315], [178]])\n",
    "print(vecotr_y.shape)"
   ]
  },
  {
   "cell_type": "markdown",
   "metadata": {},
   "source": [
    "## 5 - Addition and Scalar Multiplication\n",
    "    \n",
    " ![title](img/asm.png)"
   ]
  },
  {
   "cell_type": "code",
   "execution_count": 6,
   "metadata": {},
   "outputs": [
    {
     "name": "stdout",
     "output_type": "stream",
     "text": [
      "[[ 5.   0.5]\n",
      " [ 4.  10. ]\n",
      " [ 3.   2. ]]\n",
      "[[ 3  0]\n",
      " [ 6 15]\n",
      " [ 9  3]]\n"
     ]
    }
   ],
   "source": [
    "# Addition and subtraction\n",
    "matrix_A = np.array([[1, 0],[2, 5], [3, 1]])\n",
    "matrix_B = np.array([[4, 0.5],[2, 5], [0, 1]])\n",
    "print(matrix_A+matrix_B)\n",
    "\n",
    "# scalar mutiplication\n",
    "print(matrix_A*3)"
   ]
  },
  {
   "cell_type": "markdown",
   "metadata": {},
   "source": [
    "## 6 - Matrix-Vector Multiplication\n",
    "\n",
    " ![title](img/mvm.png)"
   ]
  },
  {
   "cell_type": "code",
   "execution_count": 7,
   "metadata": {},
   "outputs": [
    {
     "name": "stdout",
     "output_type": "stream",
     "text": [
      "[[16]\n",
      " [ 4]\n",
      " [ 7]]\n"
     ]
    }
   ],
   "source": [
    "# matrix-vector Multiplication\n",
    "matrix_A = np.array([[1, 3],[4, 0], [2, 1]])\n",
    "matrix_B =np.array([[1],[5]])\n",
    "print(matrix_A.dot(matrix_B))"
   ]
  },
  {
   "cell_type": "markdown",
   "metadata": {},
   "source": [
    "## 7 - Matrix-Matrix Multiplication\n",
    "\n",
    " ![title](img/mmm.png)"
   ]
  },
  {
   "cell_type": "code",
   "execution_count": 8,
   "metadata": {},
   "outputs": [
    {
     "name": "stdout",
     "output_type": "stream",
     "text": [
      "[[ 9  7]\n",
      " [15 12]]\n"
     ]
    }
   ],
   "source": [
    "# matrix-matrix Multiplication\n",
    "matrix_A = np.array([[1, 3],[2, 5]])\n",
    "matrix_B =np.array([[0, 1],[3, 2]])\n",
    "print(matrix_A.dot(matrix_B))"
   ]
  },
  {
   "cell_type": "markdown",
   "metadata": {},
   "source": [
    "## 8 - Matrix Multiplication Properties\n",
    "\n",
    "![title](img/mmp.png)"
   ]
  },
  {
   "cell_type": "code",
   "execution_count": 9,
   "metadata": {},
   "outputs": [
    {
     "name": "stdout",
     "output_type": "stream",
     "text": [
      "[[1. 0. 0.]\n",
      " [0. 1. 0.]\n",
      " [0. 0. 1.]]\n"
     ]
    }
   ],
   "source": [
    "# Identity matrix\n",
    "\n",
    "matrix_identity = np.identity(3)\n",
    "print(matrix_identity)"
   ]
  },
  {
   "cell_type": "markdown",
   "metadata": {},
   "source": [
    "## 9 - Inverse and Transpose\n",
    "\n",
    "![title](img/it.png)"
   ]
  },
  {
   "cell_type": "code",
   "execution_count": 10,
   "metadata": {},
   "outputs": [
    {
     "name": "stdout",
     "output_type": "stream",
     "text": [
      "[[-2.5  1.5]\n",
      " [ 2.  -1. ]]\n"
     ]
    }
   ],
   "source": [
    "# Inverse matrix\n",
    "\n",
    "b = np.array([[2,3],[4,5]])\n",
    "\n",
    "inversed_b = np.linalg.inv(b)\n",
    "print(inversed_b)"
   ]
  },
  {
   "cell_type": "code",
   "execution_count": 12,
   "metadata": {},
   "outputs": [
    {
     "name": "stdout",
     "output_type": "stream",
     "text": [
      "[[2 4]\n",
      " [3 5]]\n"
     ]
    }
   ],
   "source": [
    "# Transpose \n",
    "b = np.array([[2,3],[4,5]])\n",
    "transposed_b = b.transpose()\n",
    "print(transposed_b)"
   ]
  },
  {
   "cell_type": "code",
   "execution_count": null,
   "metadata": {},
   "outputs": [],
   "source": []
  }
 ],
 "metadata": {
  "kernelspec": {
   "display_name": "Python 3",
   "language": "python",
   "name": "python3"
  },
  "language_info": {
   "codemirror_mode": {
    "name": "ipython",
    "version": 3
   },
   "file_extension": ".py",
   "mimetype": "text/x-python",
   "name": "python",
   "nbconvert_exporter": "python",
   "pygments_lexer": "ipython3",
   "version": "3.7.0"
  }
 },
 "nbformat": 4,
 "nbformat_minor": 4
}
