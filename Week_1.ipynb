{
 "cells": [
  {
   "cell_type": "markdown",
   "metadata": {},
   "source": [
    "# Model Representation  (lecture2 and lecture3)\n",
    "\n",
    "![title](img/ml_flow.png)\n",
    "\n",
    "h: is model which can be linear or nonliner\n"
   ]
  },
  {
   "cell_type": "markdown",
   "metadata": {},
   "source": [
    "## 1-Linear regression: \n",
    "  * one type of hypothesis function\n",
    "  \n",
    "## 2- Cost function:\n",
    "  * used to measure the accuracy of our hypothesis function\n",
    "  * one exampe is __Mean squared error__\n",
    "      ![title](img/mse.png)\n",
    "      \n",
    "##  3- Gradient Descent:\n",
    "  * summary as following: \n",
    "      ![title](img/sum_1.png)\n",
    "  * Solution for find params to get min value is __Gradient Descent__\n",
    "      ![title](img/gd_1.png)\n",
    "  * := assignment means __a__ := __b__, give value of b to a\n",
    "  * á: learn rate - step size following indicating direction\n",
    "  \n",
    " "
   ]
  },
  {
   "cell_type": "markdown",
   "metadata": {},
   "source": [
    "## 4- Matrices and vestor:\n",
    "* rows * colums: 4 X 2 = 4 by 2 matrices\n",
    "* A_ij: in A matrics, i_th row and j_th column\n",
    "* Vector:  n by 1 matrix y_i - i_th element in vector\n",
    "\n",
    "    ![title](img/mv_1.png)"
   ]
  },
  {
   "cell_type": "markdown",
   "metadata": {},
   "source": [
    "## 5 - Addition and Scalar Multiplication\n",
    "    \n",
    " ![title](img/asm.png)"
   ]
  },
  {
   "cell_type": "markdown",
   "metadata": {},
   "source": [
    "## 6 - Matrix-Vector Multiplication\n",
    "\n",
    " ![title](img/mvm.png)"
   ]
  },
  {
   "cell_type": "markdown",
   "metadata": {},
   "source": [
    "## 7 - Matrix-Matrix Multiplication\n",
    "\n",
    " ![title](img/mmm.png)"
   ]
  },
  {
   "cell_type": "markdown",
   "metadata": {},
   "source": [
    "## 8 - Matrix Multiplication Properties\n",
    "\n",
    "![title](img/mmp.png)"
   ]
  },
  {
   "cell_type": "markdown",
   "metadata": {},
   "source": [
    "## 9 - Inverse and Transpose\n",
    "\n",
    "![title](img/it.png)"
   ]
  },
  {
   "cell_type": "code",
   "execution_count": null,
   "metadata": {},
   "outputs": [],
   "source": []
  }
 ],
 "metadata": {
  "kernelspec": {
   "display_name": "Python 3",
   "language": "python",
   "name": "python3"
  },
  "language_info": {
   "codemirror_mode": {
    "name": "ipython",
    "version": 3
   },
   "file_extension": ".py",
   "mimetype": "text/x-python",
   "name": "python",
   "nbconvert_exporter": "python",
   "pygments_lexer": "ipython3",
   "version": "3.8.2"
  }
 },
 "nbformat": 4,
 "nbformat_minor": 4
}
