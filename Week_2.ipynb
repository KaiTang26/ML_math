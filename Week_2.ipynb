{
 "cells": [
  {
   "cell_type": "markdown",
   "metadata": {},
   "source": [
    "# Linear Regression with Mutiple Variables"
   ]
  },
  {
   "cell_type": "markdown",
   "metadata": {},
   "source": [
    "## 1 - Multiple Features:\n",
    "\n",
    "   ![title](img/mf.png)"
   ]
  },
  {
   "cell_type": "markdown",
   "metadata": {},
   "source": [
    "## 2 - Gradient Descent for Multiple Variables\n",
    "\n",
    "![title](img/GDM_1.png)\n",
    "![title](img/GDM_2.png)"
   ]
  },
  {
   "cell_type": "markdown",
   "metadata": {},
   "source": [
    "## 3 - Gradient Descent in Practice I - Feature Scaling ( Normalization)\n",
    "\n",
    "* normalization vs not-normalization\n",
    "![title](img/gpp1_1.png)\n",
    "\n",
    "![title](img/gpp1_2.png)\n",
    "\n",
    "* __Normalization__\n",
    "![title](img/gpp1_3.png)"
   ]
  },
  {
   "cell_type": "markdown",
   "metadata": {},
   "source": [
    "## 4 - Gradient Descent in Practice II - Learning Rate\n",
    "\n",
    "* What is __Convergence__ in this context?\n",
    "![title](img/gpp2_1.png)\n",
    "![title](img/gpp2_2.png)\n",
    "\n",
    "* __Learning rate__ will impact __Convergence__:\n",
    "\n",
    "![title](img/gpp2_3.png)"
   ]
  },
  {
   "cell_type": "markdown",
   "metadata": {},
   "source": [
    "## 5 - Features and Polynomial Regression\n",
    "\n",
    "![title](img/fpr.png)"
   ]
  },
  {
   "cell_type": "markdown",
   "metadata": {},
   "source": [
    "# Computing Parameters Analytically"
   ]
  },
  {
   "cell_type": "markdown",
   "metadata": {},
   "source": [
    "## 1 - Normal Equation:\n",
    "\n",
    "* What is __design matrix__: a design matrix, also known as model matrix or regressor matrix and often denoted by __X__, is a matrix of values of explanatory variables of a set of objects.\n",
    "\n",
    "![title](img/ne_1.png)\n",
    "\n",
    "* Normal Equation:\n",
    "![title](img/ne_2.png)\n"
   ]
  },
  {
   "cell_type": "markdown",
   "metadata": {},
   "source": [
    "## 2 - Normal Equation Noninvertibility\n",
    "![title](img/nen_1.png)\n",
    "![title](img/nen_2.png)"
   ]
  },
  {
   "cell_type": "code",
   "execution_count": null,
   "metadata": {},
   "outputs": [],
   "source": []
  }
 ],
 "metadata": {
  "kernelspec": {
   "display_name": "Python 3",
   "language": "python",
   "name": "python3"
  },
  "language_info": {
   "codemirror_mode": {
    "name": "ipython",
    "version": 3
   },
   "file_extension": ".py",
   "mimetype": "text/x-python",
   "name": "python",
   "nbconvert_exporter": "python",
   "pygments_lexer": "ipython3",
   "version": "3.8.2"
  }
 },
 "nbformat": 4,
 "nbformat_minor": 4
}
