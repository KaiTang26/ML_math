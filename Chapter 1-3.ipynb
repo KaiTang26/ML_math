{
 "cells": [
  {
   "cell_type": "markdown",
   "metadata": {},
   "source": [
    "# 1. Gossary"
   ]
  },
  {
   "cell_type": "markdown",
   "metadata": {},
   "source": [
    "* __Data set__:\n",
    "\\begin{align}\n",
    "D = \\{\\vec{\\mathbf{x}}_1, \\vec{\\mathbf{x}}_2,..., \\vec{\\mathbf{x}}_m\\}\n",
    "\\end{align}\n",
    "\\begin{align}\n",
    " \\vec{\\mathbf{x}}_i = (x_{i1} ;x_{i1} ;x_{i1} )\n",
    "\\end{align}\n",
    "\n",
    "Means: data set has __m__ instance, each of them has __d__ attribute/feature."
   ]
  },
  {
   "cell_type": "code",
   "execution_count": null,
   "metadata": {},
   "outputs": [],
   "source": []
  }
 ],
 "metadata": {
  "kernelspec": {
   "display_name": "Python 3",
   "language": "python",
   "name": "python3"
  },
  "language_info": {
   "codemirror_mode": {
    "name": "ipython",
    "version": 3
   },
   "file_extension": ".py",
   "mimetype": "text/x-python",
   "name": "python",
   "nbconvert_exporter": "python",
   "pygments_lexer": "ipython3",
   "version": "3.8.2"
  }
 },
 "nbformat": 4,
 "nbformat_minor": 4
}
